{
 "cells": [
  {
   "cell_type": "markdown",
   "id": "01b9ce12-5327-4b70-bab1-d2e9e44ef027",
   "metadata": {},
   "source": [
    "# Year End Analysis Notebook"
   ]
  },
  {
   "cell_type": "markdown",
   "id": "e4c7ad24-beb5-4e67-9f6d-8c88e8358f90",
   "metadata": {},
   "source": [
    "## This project is broken into 3 different sections. \n",
    "\n",
    "Section 1: Obsidian Journal Processing\n",
    "Section 2: Timular Data Extraction via API\n",
    "Section 3: Data visualizations\n",
    "\n",
    "Reminder for Timeular is that you must have the ability to export data. As of Jan. 2024 that ability begins at the Personal Pro level."
   ]
  },
  {
   "cell_type": "markdown",
   "id": "c19d74a1-cf4b-4dcf-9638-91712dc951ca",
   "metadata": {},
   "source": [
    "---"
   ]
  },
  {
   "cell_type": "markdown",
   "id": "21bdc952-3bd1-4a09-8c6b-147706d879d3",
   "metadata": {},
   "source": [
    "## Section 0 - Import and variable information"
   ]
  },
  {
   "cell_type": "code",
   "execution_count": 21,
   "id": "16f5508d-83f8-458f-803e-604f6a66dfce",
   "metadata": {},
   "outputs": [
    {
     "name": "stdin",
     "output_type": "stream",
     "text": [
      "What is the absolute path for your vault?  C:\\Users\\emerg\\OneDrive\\Documents\\_Mimir Cyber\\Coding\\Personal Projects\\obsidian-notes\\Journal\\Daily\n"
     ]
    }
   ],
   "source": [
    "# Imports for Obsidian\n",
    "import frontmatter as pyfront\n",
    "from yaml.scanner import ScannerError\n",
    "\n",
    "# Imports for Timular\n",
    "import requests\n",
    "import json\n",
    "from dotenv import load_dotenv\n",
    "import pandas as pd\n",
    "from io import StringIO\n",
    "\n",
    "# Imports for all\n",
    "import os\n",
    "from pprint import pprint\n",
    "\n",
    "# Imports for Jupyter\n",
    "import plotly.graph_objects as pgo\n",
    "import matplotlib.pyplot as plt\n",
    "\n",
    "\n",
    "\n",
    "if os.path.exists(\".env\"):\n",
    "    print(\".env file already exist, which means API information should already be there. Skipping questions to gather that information\")\n",
    "else:\n",
    "    print(\"The next questions are saved to a .env file that the project ignores.\")\n",
    "    vault = input(r\"What is the absolute path for your vault? \")\n",
    "    timeular_api_key = input(r\"What is your timeular Api Key? This will get saved to the .env file:  \")\n",
    "    timeular_api_secret = input(r\"What is your timeular Api Secret? This will get saved to the .env file:  \")\n",
    "    with open(\".env\", \"w\") as env_file:\n",
    "        env_file.write os.getenv(f'TIMEULAR_API_KEY={timeular_api_key}')\n",
    "        env_file.write(f'TIMEULAR_API_SECRET={timeular_api_secret}')\n",
    "        env_file.write(f'VAULT_PATH={vault}')\n",
    "\n",
    " \n",
    "\n"
   ]
  },
  {
   "cell_type": "markdown",
   "id": "82a378de-8e14-41f9-a48b-27d5b68fab91",
   "metadata": {},
   "source": [
    "---"
   ]
  },
  {
   "cell_type": "markdown",
   "id": "2d320e90-35d7-44d1-930a-171ee4265281",
   "metadata": {},
   "source": [
    "## Section 1 - Obsidian Journal Frontmatter (Properties) Collection"
   ]
  },
  {
   "cell_type": "code",
   "execution_count": 22,
   "id": "2a301228-505c-4545-969a-9b50282d0b75",
   "metadata": {},
   "outputs": [
    {
     "name": "stdout",
     "output_type": "stream",
     "text": [
      "{'Code': 1,\n",
      " 'Enjoyment': '🟩',\n",
      " 'Home-Imporvement': 1,\n",
      " 'Homelab': None,\n",
      " 'Location': None,\n",
      " 'Meditation': 0,\n",
      " 'MimirCyber': None,\n",
      " 'Reading': 1,\n",
      " 'Weight': 249.2,\n",
      " 'Workout': 1,\n",
      " 'aliases': None,\n",
      " 'date': None,\n",
      " 'tags': ['daily-reviews']}\n"
     ]
    }
   ],
   "source": [
    "# Frontmatter Documentation https://pypi.org/project/python-frontmatter/\n",
    "# Primary collection module is pyfront\n",
    "\n",
    "vault_path = os.getenv(\"VAULT_PATH\")\n",
    "\n",
    "def create_nested_dictionary_from_vault(directory):\n",
    "    daily_dic = {}\n",
    "\n",
    "    \n",
    "    for filename in os.listdir(directory):\n",
    "        file_path = os.path.join(directory, filename)\n",
    "\n",
    "\n",
    "        if os.path.isfile(file_path):\n",
    "            # Remove the file extension to get the key\n",
    "            date_key = os.path.splitext(filename)[0]\n",
    "            \n",
    "\n",
    "            try:\n",
    "                with open(file_path, 'r', encoding='utf-8') as file:\n",
    "                    post = pyfront.loads(file.read())\n",
    "                    daily_dic[date_key] = post.metadata\n",
    "            except (UnicodeDecodeError, ScannerError) as e:\n",
    "                print(f\"Error in file {filename}: {e}\")\n",
    "                continue  # Skips the file causing the error\n",
    "                # For complete data, go to the skipped files and fix the errors\n",
    "\n",
    "\n",
    "    return daily_dic\n",
    "\n",
    "result_nested_dictionary = create_nested_dictionary_from_vault(vault_path)\n",
    "\n",
    "pprint(result_nested_dictionary[\"2023-01-01\"]) # Test print of the nested dictionary to make sure it "
   ]
  },
  {
   "cell_type": "markdown",
   "id": "aeb10377-e68d-4a16-8522-f6d52da9978e",
   "metadata": {},
   "source": [
    "---"
   ]
  },
  {
   "cell_type": "markdown",
   "id": "2d9ba230-9155-4f85-bf04-18c73251c044",
   "metadata": {},
   "source": [
    "## Section 2 - Timular Data Extraction via API"
   ]
  },
  {
   "cell_type": "code",
   "execution_count": 18,
   "id": "f8028a2e-39d5-4674-8dc1-7f445ce186c3",
   "metadata": {},
   "outputs": [],
   "source": [
    "#### Timeular API Documentation https://developers.timeular.com/#832677a3-73d5-4bde-85dc-40af433414c1 ####\n",
    "\n",
    "# Secrets will load from \".env\"\n",
    "load_dotenv()\n",
    "time_api = os.getenv(\"TIMEULAR_API_KEY\")\n",
    "time_secret = os.getenv(\"TIMEULAR_API_SECRET\")\n",
    "time_token = os.getenv(\"TIMEULAR_API_TOKEN\")\n",
    "\n",
    "\n",
    "# Timeular requires you to have an ApiKey and ApiSecret to get your ApiToken. This uses ApiKey and ApiSecret to make the required API Call.\n",
    "token_payload = json.dumps({\n",
    "    \"apiKey\": time_api,\n",
    "    \"apiSecret\": time_secret,\n",
    "})\n",
    "token_headers = {\n",
    "    'Content-Type': 'application/json'\n",
    "}\n",
    "token_url = \"https://api.timeular.com/api/v3/developer/sign-in\"\n",
    "timeular_response_token = requests.request(\"POST\", token_url, headers=token_headers, data=token_payload)\n",
    "timeular_response_token.raise_for_status()\n",
    "os.getenv('TIMEULAR_API_TOKEN', timeular_response_token.text)\n",
    "\n",
    "\n",
    "# With your ApiToken, you can now export data for the dates in question. \n",
    "activities_headers = {\n",
    "  'Authorization': f'Bearer {time_token}'\n",
    "}\n",
    "activities_payload = {}\n",
    "activites_list_url = \"https://api.timeular.com/api/v3/report/2023-01-01T00:00:00.000/2023-12-31T23:59:59.999?timezone=America/Chicago\"\n",
    "timeular_response_activites = requests.request(\"GET\", activites_list_url, headers=activities_headers, data=activities_payload)\n",
    "timeular_response_activites.raise_for_status()\n",
    "\n",
    "\n",
    "acitivities_text = timeular_response_activites.text\n",
    "\n",
    "# Setting output to be same directory as jupyter file\n",
    "script_dir = os.getcwd()\n",
    "output_file_path = os.path.join(script_dir, 'timeular_data.csv')\n",
    "\n",
    "# Making the CSV readable for Jupyter manipulation\n",
    "df = pd.read_csv(StringIO(acitivities_text))\n",
    "df = df[['Space', 'StartDate', 'Duration', 'Note']]\n",
    "df.to_csv(output_file_path, index=False)"
   ]
  },
  {
   "cell_type": "markdown",
   "id": "fb3cb69e-e526-43e4-96b0-3094eb4bd3fc",
   "metadata": {},
   "source": [
    "---"
   ]
  },
  {
   "cell_type": "markdown",
   "id": "e4a955bc-fc59-47c2-964f-a9c01416c9cf",
   "metadata": {},
   "source": [
    "## Section 3 - Data Visualization"
   ]
  },
  {
   "cell_type": "code",
   "execution_count": null,
   "id": "b8038bef-1209-44da-a7b5-7740e8f9f967",
   "metadata": {},
   "outputs": [],
   "source": []
  }
 ],
 "metadata": {
  "kernelspec": {
   "display_name": "Python 3 (ipykernel)",
   "language": "python",
   "name": "python3"
  },
  "language_info": {
   "codemirror_mode": {
    "name": "ipython",
    "version": 3
   },
   "file_extension": ".py",
   "mimetype": "text/x-python",
   "name": "python",
   "nbconvert_exporter": "python",
   "pygments_lexer": "ipython3",
   "version": "3.10.6"
  }
 },
 "nbformat": 4,
 "nbformat_minor": 5
}
